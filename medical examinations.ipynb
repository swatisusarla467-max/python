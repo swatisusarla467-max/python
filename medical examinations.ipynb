{
 "cells": [
  {
   "cell_type": "code",
   "execution_count": 6,
   "id": "5ed8cf69-35c1-479e-b12b-451312849e74",
   "metadata": {},
   "outputs": [
    {
     "ename": "NameError",
     "evalue": "name 'df_cat' is not defined",
     "output_type": "error",
     "traceback": [
      "\u001b[1;31m---------------------------------------------------------------------------\u001b[0m",
      "\u001b[1;31mNameError\u001b[0m                                 Traceback (most recent call last)",
      "Cell \u001b[1;32mIn[6], line 21\u001b[0m\n\u001b[0;32m     18\u001b[0m \u001b[38;5;28;01mdef\u001b[39;00m \u001b[38;5;21mdraw_heat_map\u001b[39m():\n\u001b[0;32m     19\u001b[0m     \u001b[38;5;66;03m# Clean data for heat map\u001b[39;00m\n\u001b[0;32m     20\u001b[0m     df_heat \u001b[38;5;241m=\u001b[39m df[\u001b[38;5;124m'\u001b[39m\u001b[38;5;124map_lo\u001b[39m\u001b[38;5;124m'\u001b[39m] \u001b[38;5;241m<\u001b[39m\u001b[38;5;241m=\u001b[39m df[\u001b[38;5;124m'\u001b[39m\u001b[38;5;124map_hi\u001b[39m\u001b[38;5;124m'\u001b[39m],df[\u001b[38;5;124m'\u001b[39m\u001b[38;5;124mheight\u001b[39m\u001b[38;5;124m'\u001b[39m] \u001b[38;5;241m>\u001b[39m\u001b[38;5;241m=\u001b[39m df[\u001b[38;5;124m'\u001b[39m\u001b[38;5;124mheight\u001b[39m\u001b[38;5;124m'\u001b[39m]\u001b[38;5;241m.\u001b[39mquantile(\u001b[38;5;241m0.025\u001b[39m),df[\u001b[38;5;124m'\u001b[39m\u001b[38;5;124mheight\u001b[39m\u001b[38;5;124m'\u001b[39m] \u001b[38;5;241m<\u001b[39m\u001b[38;5;241m=\u001b[39m df[\u001b[38;5;124m'\u001b[39m\u001b[38;5;124mheight\u001b[39m\u001b[38;5;124m'\u001b[39m]\u001b[38;5;241m.\u001b[39mquantile(\u001b[38;5;241m0.975\u001b[39m),df[\u001b[38;5;124m'\u001b[39m\u001b[38;5;124mweight\u001b[39m\u001b[38;5;124m'\u001b[39m] \u001b[38;5;241m>\u001b[39m\u001b[38;5;241m=\u001b[39m df[\u001b[38;5;124m'\u001b[39m\u001b[38;5;124mweight\u001b[39m\u001b[38;5;124m'\u001b[39m]\u001b[38;5;241m.\u001b[39mquantile(\u001b[38;5;241m0.025\u001b[39m),df[\u001b[38;5;124m'\u001b[39m\u001b[38;5;124mweight\u001b[39m\u001b[38;5;124m'\u001b[39m] \u001b[38;5;241m<\u001b[39m\u001b[38;5;241m=\u001b[39m df[\u001b[38;5;124m'\u001b[39m\u001b[38;5;124mweight\u001b[39m\u001b[38;5;124m'\u001b[39m]\u001b[38;5;241m.\u001b[39mquantile(\u001b[38;5;241m0.025\u001b[39m)\n\u001b[1;32m---> 21\u001b[0m \u001b[38;5;28mprint\u001b[39m(df_cat\u001b[38;5;241m.\u001b[39mhead())\n\u001b[0;32m     22\u001b[0m \u001b[38;5;28mprint\u001b[39m(corr)\n\u001b[0;32m     23\u001b[0m \u001b[38;5;28mprint\u001b[39m(df_heat\u001b[38;5;241m.\u001b[39mhead())\n",
      "\u001b[1;31mNameError\u001b[0m: name 'df_cat' is not defined"
     ]
    }
   ],
   "source": [
    "import pandas as pd\n",
    "import seaborn as sns\n",
    "import matplotlib.pyplot as plt\n",
    "import numpy as np\n",
    "df=pd.read_csv(\"C:/Users/Swati Susarla/Downloads/medical_examination_sample.csv\")\n",
    "def draw_cat_plot():\n",
    "    # Create DataFrame for categorical plot\n",
    "    df_cat= pd.melt(df, id_vars=['cardio'],values=['cholesterol', 'gluc', 'smoke', 'alco', 'active', 'overweight'])\n",
    "    print(df_cat)\n",
    "    # Group and reformat data\n",
    "    df_cat = df_cat.groupby(['cardio', 'variable', 'value']).size().reset_index(name='count')\n",
    "    # Rename column for catplot\n",
    "    df_cat= df_cat.rename(columns={'variable': 'feature'})\n",
    "    # Create categorical plot\n",
    "    fig = sns.catplot(x='feature', hue='value', col='cardio', data=df_cat, kind='count', y='count').fig\n",
    "    return fig\n",
    "\n",
    "def draw_heat_map():\n",
    "    # Clean data for heat map\n",
    "    df_heat = df['ap_lo'] <= df['ap_hi'],df['height'] >= df['height'].quantile(0.025),df['height'] <= df['height'].quantile(0.975),df['weight'] >= df['weight'].quantile(0.025),df['weight'] <= df['weight'].quantile(0.025)\n",
    "print(df_cat.head())\n",
    "print(corr)\n",
    "print(df_heat.head())\n",
    "\n",
    "\n",
    "\n"
   ]
  },
  {
   "cell_type": "code",
   "execution_count": null,
   "id": "457a9ebe-01c3-4c80-b1f9-75396d5bda25",
   "metadata": {},
   "outputs": [],
   "source": []
  }
 ],
 "metadata": {
  "kernelspec": {
   "display_name": "Python 3 (ipykernel)",
   "language": "python",
   "name": "python3"
  },
  "language_info": {
   "codemirror_mode": {
    "name": "ipython",
    "version": 3
   },
   "file_extension": ".py",
   "mimetype": "text/x-python",
   "name": "python",
   "nbconvert_exporter": "python",
   "pygments_lexer": "ipython3",
   "version": "3.12.7"
  }
 },
 "nbformat": 4,
 "nbformat_minor": 5
}

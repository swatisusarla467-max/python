{
 "cells": [
  {
   "cell_type": "code",
   "execution_count": 17,
   "id": "e7f7079f-7b66-40d5-8bfb-3e89fbc6e93c",
   "metadata": {},
   "outputs": [
    {
     "data": {
      "text/plain": [
       "True"
      ]
     },
     "execution_count": 17,
     "metadata": {},
     "output_type": "execute_result"
    }
   ],
   "source": [
    "import pandas as pd\n",
    "\n",
    "def calculate_demographic_data(print_data=True):\n",
    "    # Read data from file\n",
    "    df = pd.read_csv(\"adult.data.csv\")\n",
    "\n",
    "    # 1. How many of each race are represented in this dataset\n",
    "    race_count = df['race'].value_counts()\n",
    "\n",
    "    # 2. Average age of men\n",
    "    average_age_men = round(df[df['sex'] == 'Male']['age'].mean(), 1)\n",
    "\n",
    "    # 3. Percentage of people who have a Bachelor's degree\n",
    "    percentage_bachelors = round((df['education'] == 'Bachelors').mean() * 100, 1)\n",
    "\n",
    "    # 4. Advanced education filter\n",
    "    higher_education = df['education'].isin(['Bachelors', 'Masters', 'Doctorate'])\n",
    "    lower_education = ~higher_education\n",
    "\n",
    "    # % with salary >50K\n",
    "    higher_education_rich = round((df[higher_education]['salary'] == '>50K').mean() * 100, 1)\n",
    "    lower_education_rich = round((df[lower_education]['salary'] == '>50K').mean() * 100, 1)\n",
    "\n",
    "    # 5. Minimum work hours\n",
    "    min_work_hours = df['hours-per-week'].min()\n",
    "\n",
    "    # 6. % of rich among those working min hours\n",
    "    min_workers = df[df['hours-per-week'] == min_work_hours]\n",
    "    rich_percentage = round((min_workers['salary'] == '>50K').mean() * 100, 1)\n",
    "\n",
    "    # 7. Country with highest % of >50K earners\n",
    "    country_earning = df[df['salary'] == '>50K']['native-country'].value_counts()\n",
    "    country_total = df['native-country'].value_counts()\n",
    "    highest_earning_country = (country_earning / country_total * 100).idxmax()\n",
    "    highest_earning_country_percentage = round((country_earning / country_total * 100).max(), 1)\n",
    "\n",
    "    # 8. Most popular occupation in India for >50K\n",
    "    india_rich = df[(df['native-country'] == 'India') & (df['salary'] == '>50K')]\n",
    "    top_IN_occupation = india_rich['occupation'].value_counts().idxmax()\n",
    "\n",
    "    # Print data if needed\n",
    "    if print_data:\n",
    "        print(\"Number of each race:\\n\", race_count) \n",
    "        print(\"Average age of men:\", average_age_men)\n",
    "        print(f\"Percentage with Bachelors degrees: {percentage_bachelors}%\")\n",
    "        print(f\"Percentage with higher education that earn >50K: {higher_education_rich}%\")\n",
    "        print(f\"Percentage without higher education that earn >50K: {lower_education_rich}%\")\n",
    "        print(f\"Min work time: {min_work_hours} hours/week\")\n",
    "        print(f\"Percentage of rich among those who work fewest hours: {rich_percentage}%\")\n",
    "        print(\"Country with highest percentage of rich:\", highest_earning_country)\n",
    "        print(f\"Highest percentage of rich people in country: {highest_earning_country_percentage}%\")\n",
    "        print(\"Top occupations in India:\", top_IN_occupation)\n",
    "\n",
    "    return {\n",
    "        'race_count': race_count,\n",
    "        'average_age_men': average_age_men,\n",
    "        'percentage_bachelors': percentage_bachelors,\n",
    "        'higher_education_rich': higher_education_rich,\n",
    "        'lower_education_rich': lower_education_rich,\n",
    "        'min_work_hours': min_work_hours,\n",
    "        'rich_percentage': rich_percentage,\n",
    "        'highest_earning_country': highest_earning_country,\n",
    "        'highest_earning_country_percentage': highest_earning_country_percentage,\n",
    "        'top_IN_occupation': top_IN_occupation\n",
    "    }\n",
    "print_data"
   ]
  },
  {
   "cell_type": "code",
   "execution_count": null,
   "id": "978e41e0-c580-41a1-8491-fa1069378d49",
   "metadata": {},
   "outputs": [],
   "source": []
  }
 ],
 "metadata": {
  "kernelspec": {
   "display_name": "Python 3 (ipykernel)",
   "language": "python",
   "name": "python3"
  },
  "language_info": {
   "codemirror_mode": {
    "name": "ipython",
    "version": 3
   },
   "file_extension": ".py",
   "mimetype": "text/x-python",
   "name": "python",
   "nbconvert_exporter": "python",
   "pygments_lexer": "ipython3",
   "version": "3.12.7"
  }
 },
 "nbformat": 4,
 "nbformat_minor": 5
}

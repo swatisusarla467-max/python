{
 "cells": [
  {
   "cell_type": "code",
   "execution_count": 1,
   "id": "6c6741e9-74ec-4575-a66d-9c5a5a2ac6df",
   "metadata": {},
   "outputs": [
    {
     "name": "stdout",
     "output_type": "stream",
     "text": [
      "{'mean': [[3.0, 4.0, 5.0], [1.0, 4.0, 7.0], 4.0], 'variance': [[6.0, 6.0, 6.0], [0.6666666666666666, 0.6666666666666666, 0.6666666666666666], 6.666666666666667], 'standard deviation': [[2.449489742783178, 2.449489742783178, 2.449489742783178], [0.816496580927726, 0.816496580927726, 0.816496580927726], 2.581988897471611], 'max': [[6, 7, 8], [2, 5, 8], 8], 'min': [[0, 1, 2], [0, 3, 6], 0], 'sum': [[9, 12, 15], [3, 12, 21], 36]}\n"
     ]
    }
   ],
   "source": [
    "import numpy as np\n",
    "\n",
    "def calculate(numbers):\n",
    "    if len(numbers) < 9:\n",
    "        raise ValueError(\"List must contain nine numbers.\")\n",
    "\n",
    "    # Reshape into 3x3 matrix\n",
    "    matrix = np.array(numbers).reshape(3, 3)\n",
    "\n",
    "    # Helper to convert NumPy array to list\n",
    "    to_list = lambda x: x.tolist()\n",
    "\n",
    "    # Build result dictionary\n",
    "    calculations = {\n",
    "        'mean': [\n",
    "            to_list(np.mean(matrix, axis=0)),   # Column means\n",
    "            to_list(np.mean(matrix, axis=1)),   # Row means\n",
    "            np.mean(matrix).item()              # Flattened mean\n",
    "        ],\n",
    "        'variance': [\n",
    "            to_list(np.var(matrix, axis=0)),\n",
    "            to_list(np.var(matrix, axis=1)),\n",
    "            np.var(matrix).item()\n",
    "        ],\n",
    "        'standard deviation': [\n",
    "            to_list(np.std(matrix, axis=0)),\n",
    "            to_list(np.std(matrix, axis=1)),\n",
    "            np.std(matrix).item()\n",
    "        ],\n",
    "        'max': [\n",
    "            to_list(np.max(matrix, axis=0)),\n",
    "            to_list(np.max(matrix, axis=1)),\n",
    "            np.max(matrix).item()\n",
    "        ],\n",
    "        'min': [\n",
    "            to_list(np.min(matrix, axis=0)),\n",
    "            to_list(np.min(matrix, axis=1)),\n",
    "            np.min(matrix).item()\n",
    "        ],\n",
    "        'sum': [\n",
    "            to_list(np.sum(matrix, axis=0)),\n",
    "            to_list(np.sum(matrix, axis=1)),\n",
    "            np.sum(matrix).item()\n",
    "        ]\n",
    "    }\n",
    "\n",
    "    return calculations\n",
    "print(calculate([0,1,2,3,4,5,6,7,8]))"
   ]
  },
  {
   "cell_type": "code",
   "execution_count": null,
   "id": "dee4cba3-89a8-4f2d-b9eb-da398e11264d",
   "metadata": {},
   "outputs": [],
   "source": []
  }
 ],
 "metadata": {
  "kernelspec": {
   "display_name": "Python 3 (ipykernel)",
   "language": "python",
   "name": "python3"
  },
  "language_info": {
   "codemirror_mode": {
    "name": "ipython",
    "version": 3
   },
   "file_extension": ".py",
   "mimetype": "text/x-python",
   "name": "python",
   "nbconvert_exporter": "python",
   "pygments_lexer": "ipython3",
   "version": "3.12.7"
  }
 },
 "nbformat": 4,
 "nbformat_minor": 5
}
